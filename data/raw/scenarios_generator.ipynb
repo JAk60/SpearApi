{
  "cells": [
    {
      "cell_type": "code",
      "execution_count": 1,
      "metadata": {
        "colab": {
          "base_uri": "https://localhost:8080/",
          "height": 63
        },
        "colab_type": "code",
        "id": "fvFvBLJV0Dkv",
        "outputId": "140119e5-4cee-4604-c0d2-be279c18b125"
      },
      "outputs": [],
      "source": [
        "import os\n",
        "import random\n",
        "import numpy as np\n",
        "import pandas as pd\n",
        "\n",
        "from sklearn.model_selection import train_test_split\n",
        "from sklearn.linear_model import LogisticRegression\n",
        "from sklearn.model_selection import GridSearchCV\n",
        "from sklearn.model_selection import cross_val_score\n",
        "\n",
        "import torch\n",
        "import transformers\n",
        "\n",
        "import warnings\n",
        "warnings.filterwarnings('ignore')"
      ]
    },
    {
      "cell_type": "markdown",
      "metadata": {},
      "source": [
        "#### Please carefully runs the cell to preprocess the datasets"
      ]
    },
    {
      "cell_type": "code",
      "execution_count": 2,
      "metadata": {},
      "outputs": [],
      "source": [
        "def set_seed(seed):\n",
        "    \"\"\"\n",
        "    Sets seed for all relevant libraries\n",
        "    Args:\n",
        "        seed (int): seed value for all modules\n",
        "    \"\"\"\n",
        "    random.seed(seed)\n",
        "    np.random.seed(seed)\n",
        "    torch.manual_seed(seed)\n",
        "    torch.cuda.manual_seed_all(seed)"
      ]
    },
    {
      "cell_type": "code",
      "execution_count": 3,
      "metadata": {},
      "outputs": [],
      "source": [
        "set_seed(10)"
      ]
    },
    {
      "cell_type": "markdown",
      "metadata": {
        "colab_type": "text",
        "id": "7_MO08_KiAOb"
      },
      "source": [
        "## Loading the Pre-trained  Model "
      ]
    },
    {
      "cell_type": "code",
      "execution_count": 4,
      "metadata": {
        "colab": {
          "base_uri": "https://localhost:8080/",
          "height": 68
        },
        "colab_type": "code",
        "id": "q1InADgf5xm2",
        "outputId": "dbc52856-4d52-42f8-8a74-a89944280a02"
      },
      "outputs": [],
      "source": [
        "# For DistilBERT:\n",
        "model_class, tokenizer_class, pretrained_weights = (transformers.DistilBertModel, transformers.DistilBertTokenizer, 'distilbert-base-uncased')\n",
        "\n",
        "## Want BERT instead of distilBERT? Uncomment the following line:\n",
        "#model_class, tokenizer_class, pretrained_weights = (ppb.BertModel, ppb.BertTokenizer, 'bert-base-uncased')\n",
        "\n",
        "# for other model\n",
        "model_class, tokenizer_class, pretrained_weights = (transformers.AutoModelForSeq2SeqLM,transformers.AutoTokenizer, \"humarin/chatgpt_paraphraser_on_T5_base\")\n",
        "\n",
        "# Load pretrained model/tokenizer\n",
        "tokenizer = tokenizer_class.from_pretrained(pretrained_weights)\n",
        "model = model_class.from_pretrained(pretrained_weights)"
      ]
    },
    {
      "cell_type": "code",
      "execution_count": 17,
      "metadata": {},
      "outputs": [],
      "source": [
        "def paraphrase(\n",
        "    question,\n",
        "    num_beams=5,\n",
        "    num_beam_groups=5,\n",
        "    num_return_sequences=5,\n",
        "    repetition_penalty=10.0,\n",
        "    diversity_penalty=3.0,\n",
        "    no_repeat_ngram_size=2,\n",
        "    temperature=0.7,\n",
        "    max_length=128\n",
        "):\n",
        "    input_ids = tokenizer(\n",
        "        f'paraphrase: {question}',\n",
        "        return_tensors=\"pt\", padding=\"longest\",\n",
        "        max_length=max_length,\n",
        "        truncation=True,\n",
        "    ).input_ids\n",
        "\n",
        "    outputs = model.generate(\n",
        "        input_ids, temperature=temperature, repetition_penalty=repetition_penalty,\n",
        "        num_return_sequences=num_return_sequences, no_repeat_ngram_size=no_repeat_ngram_size,\n",
        "        num_beams=num_beams, num_beam_groups=num_beam_groups,\n",
        "        max_length=max_length, diversity_penalty=diversity_penalty\n",
        "    )\n",
        "\n",
        "    res = tokenizer.batch_decode(outputs, skip_special_tokens=True)\n",
        "\n",
        "    return res"
      ]
    },
    {
      "cell_type": "code",
      "execution_count": 18,
      "metadata": {},
      "outputs": [],
      "source": [
        "# Function to remove the \"_versions\" suffix from the filename\n",
        "def remove_versions_suffix(filename):\n",
        "    return filename.replace('_versions', '')"
      ]
    },
    {
      "cell_type": "code",
      "execution_count": 29,
      "metadata": {},
      "outputs": [],
      "source": [
        "# def generate_scenarios(path1, output_directory):\n",
        "\n",
        "#     os.makedirs(output_directory, exist_ok=True)\n",
        "\n",
        "#     files1 = os.listdir(path1) \n",
        "    \n",
        "#     csv_files1 = [file for file in files1 if file.endswith('.csv')]\n",
        "    \n",
        "#     for file1 in csv_files1:\n",
        "#         df = pd.read_csv(os.path.join(path1,file1))\n",
        "\n",
        "#         scenarios_list = df['Scenario'].to_numpy()\n",
        "#         generated_scenarios = []\n",
        "#         for scenario in scenarios_list:\n",
        "#             generated_scenarios += paraphrase(scenario, num_return_sequences=10, max_length=512, num_beams=20, num_beam_groups=20)\n",
        "        \n",
        "#         df_generated = pd.DataFrame(generated_scenarios,  columns=['Scenario'])\n",
        "#         df_generated.to_csv(os.path.join(output_directory,remove_versions_suffix(file1)),index = False)\n"
      ]
    },
    {
      "cell_type": "code",
      "execution_count": 19,
      "metadata": {},
      "outputs": [],
      "source": [
        "def generate_scenarios(path1, output_directory, train_size = 32):\n",
        "    \n",
        "    os.makedirs(output_directory, exist_ok=True)\n",
        "\n",
        "    files1 = os.listdir(path1) \n",
        "    \n",
        "    csv_files1 = [file for file in files1 if file.endswith('.csv')]\n",
        "    \n",
        "    for file1 in csv_files1:\n",
        "        df = pd.read_csv(os.path.join(path1,file1))\n",
        "\n",
        "        scenarios_list = df['Scenario'].to_numpy()\n",
        "        generated_scenarios = []\n",
        "        for scenario in scenarios_list[:train_size]:\n",
        "            generated_scenarios += paraphrase(scenario, num_return_sequences=10, max_length=512, num_beams=20, num_beam_groups=20)\n",
        "            # generated_scenarios +=[scenario] \n",
        "        df_generated = pd.DataFrame(generated_scenarios,  columns=['Scenario'])\n",
        "        df_generated.to_csv(os.path.join(output_directory,remove_versions_suffix(file1)),index = False)"
      ]
    },
    {
      "cell_type": "code",
      "execution_count": 20,
      "metadata": {},
      "outputs": [],
      "source": [
        "scenarios_versions_path = \"./scenarios_versions_csv_format\"\n",
        "\n",
        "scenarios_generated= \"./scenarios_generated/paragraph_wise_2\"\n",
        "\n",
        "test = './experiment/test/'\n",
        "\n",
        "generate_scenarios(scenarios_versions_path, scenarios_generated, train_size = 28)\n",
        "\n"
      ]
    },
    {
      "cell_type": "code",
      "execution_count": 9,
      "metadata": {},
      "outputs": [],
      "source": [
        "df = pd.read_csv(\"./scenarios_versions_csv_format/scenario1.csv\")"
      ]
    },
    {
      "cell_type": "code",
      "execution_count": 12,
      "metadata": {},
      "outputs": [
        {
          "data": {
            "text/plain": [
              "array(['According to satellite data, an enemy ship is detected about 250 miles southwest of Chennai. It needs to be intercepted and interrogated. If the adversary acts aggressively, the use of SSMs may be required. The mission needs to be carried out within 36 hours. The fleet has 18 hours to deploy an appropriate vessel. The vessel should maintain a speed of 22 knots and have an endurance of no less than 9 days (including necessary supplies and fuel).'],\n",
              "      dtype=object)"
            ]
          },
          "execution_count": 12,
          "metadata": {},
          "output_type": "execute_result"
        }
      ],
      "source": [
        "df['Scenario'].to_numpy()[:1]"
      ]
    },
    {
      "cell_type": "code",
      "execution_count": 13,
      "metadata": {},
      "outputs": [],
      "source": [
        "paraphrase_paragraph = paraphrase(df['Scenario'].to_numpy()[:1], num_return_sequences=10, max_length=512, num_beams=10, num_beam_groups=10)"
      ]
    },
    {
      "cell_type": "code",
      "execution_count": 14,
      "metadata": {},
      "outputs": [
        {
          "data": {
            "text/plain": [
              "['According to satellite data, an adversary vessel is detected approximately 250 miles southwest of Chennai and requires interceptions and interrogations. If the enemy acts aggressively, SSMs may be deployed. The mission must be completed within 36 hours, and the fleet has 18 hours to deploy an appropriate vessel with a speed of 22 knots and endurance of at least 9 days (including fuel).',\n",
              " 'Satellite data indicates that an adversary ship is located approximately 250 miles southwest of Chennai and requires interceptions and interrogations. If the enemy acts aggressively, SSMs may be deployed. The mission must be completed within 36 hours, and the fleet has 18 hours to deploy an appropriate vessel with a speed of 22 knots and endurance of at least 9 days (including fuel).',\n",
              " 'An enemy vessel has been detected approximately 250 miles southwest of Chennai, according to satellite data. To intercept and question the vessel, SSMs may be necessary if the enemy acts aggressively; the mission should take around 36 hours, and the fleet must have at least 18 hours to deploy the appropriate vessel with a speed of 22 knots and an expected endurance of 9 days or more (including required supplies and fuel).',\n",
              " 'The satellite imagery indicates that a vessel detected approximately 250 miles southwest of Chennai must be intercepted and monitored. If the enemy is aggressive, SSMs may be deployed. The mission must take at least 36 hours to complete. A suitable vessel must have an endurance of no less than 9 days (including fuel, supplies, and ammunition).',\n",
              " 'Based on satellite observations, it is discovered that a vessel in the vicinity of Chennai, approximately 250 miles southwest of the city, requires interceptions and interrogations. If the enemy acts aggressively, SSMs may be deployed. The mission needs to be completed within 36 hours, and the fleet has 18 hours to deploy an appropriate vessel. This vessel should maintain cruising speed of 22 knots and have an endurance period of at least 9 days (including necessary supplies and fuel).',\n",
              " 'A vessel is detected approximately 250 miles southwest of Chennai, according to satellite data. To intercept and question the enemy, SSMs may be necessary if they act aggressively; the task must be completed within 36 hours, and the fleet must spend 18 hours deploying the appropriate vessel with a speed of 22 knots and an expected duration not less than 9 days (times without supplies and fuel).',\n",
              " \"'[Answer: Satellite data indicates that there is an enemy ship around 250 miles [1 km] southwest of Chennai which needs to be intercepted and interrogated, SSMs (Stationales Mediumship Missile Missillos) could be used against an aggressive vessel, the mission should have taken place in 36 hours, 18 hours when the fleet has been allocated with regard to deploying vessels, who must maintain a speed of 22 knots and have enduring for at least 9 days (including time spent on transporting).\",\n",
              " 'As per the satellites, an adversary ship is detected approximately 250 miles southwest of Chennai. To intercept and question it effectively (or as to require SSMs if aggressive) the mission must be completed within 36 hours with 18 more hours to deploy an appropriate vessel having a speed of 22 knots and an expected duration of 9 days (including necessary supplies and fuel).',\n",
              " 'It is said that satellite data indicates there\\'s an enemy ship about 250 miles (250 mi) southwest of Chennai with a need to be intercepted and interrogated, or \"if the enemy acts aggressively then SSMs may be used\", the mission must take around 36 hours, the fleet has 18 hours to deploy such / the appropriate vessel should maintain... cruising at combustible speed: 22 knots, with endurance no less than 9 days (including fuel time).',\n",
              " 'Satellite imagery reveals that there is an enemy vessel located roughly 250 miles southwest of Chennai, which requires intercepting and interrogating. If the enemy acts aggressively, SSMs may be deployed. The mission must take around 36 hours to complete, and the fleet must have sent a suitable ship within 18 months with opportune times of 22 knots and overdue time of at least 9 days (including fuel and supplies).']"
            ]
          },
          "execution_count": 14,
          "metadata": {},
          "output_type": "execute_result"
        }
      ],
      "source": [
        "paraphrase_paragraph"
      ]
    },
    {
      "cell_type": "code",
      "execution_count": 22,
      "metadata": {},
      "outputs": [],
      "source": [
        "paragraph = [\"The fleet needs to schedule a plan for refit of ships and submarines present in the command in the upcoming annual refit conference. Two operational dry docks are available in the yard, no more than three ships/submarines should come for refit at a time. MoM are to be released with prioritizing ship/submarine within a week.  Repair workshops at the time of ship’s refit need to be fully operational and available with more than 80% manpower strength. Spares required during overhaul of equipment may arrive two months before the commencement of the refit plan.\"]"
      ]
    },
    {
      "cell_type": "code",
      "execution_count": 23,
      "metadata": {},
      "outputs": [],
      "source": [
        "paraphrase_paragraph = paraphrase(paragraph, num_return_sequences=10, max_length=512, num_beams=10, num_beam_groups=10)"
      ]
    },
    {
      "cell_type": "code",
      "execution_count": 24,
      "metadata": {},
      "outputs": [
        {
          "data": {
            "text/plain": [
              "['The fleet must plan ahead with the upcoming annual refit conference for ships and submarines. This includes having two operational dry docks in the yard, as well as a requirement to minimize the number of ships/submarines arriving at once.',\n",
              " 'A plan for refit of ships and submarines present in the command should be scheduled by the fleet at the annual refits conference, with two operational dry docks available. The majority of vessels should not arrive simultaneously, and the MoM should prioritize ship/submarine within a week. Repair workshops must be fully operational and available with over 80% manpower strength. Spares required during equipment overhauls may arrive two months before the start of the reffit plan.',\n",
              " 'It is recommended that the fleet plan for refit of ships and submarines present in the command, which can be done during the annual refits conference. The yard should have two operational dry docks, and no more than three ships/submarines arriving at a time.',\n",
              " 'To ensure a successful refit of ships and submarines, the fleet must schedule refueling plans with two operational dry docks in the yard and prioritize prioritizing them within one week. Repair workshops must be fully operational and available with over 80% manpower strength.',\n",
              " 'The annual refit conference should set aside time for the fleet to plan a reffit of ships and submarines in the yard. This can be achieved by using two operational dry docks, with no more than three ships/submarines arriving at any given time. The MoM should be released within ten days after the ship refits, and repair workshops must be fully operational and available with over 80% manpower strength. Spare parts needed during equipment overhauls may arrive two months before the start of the refIT plan.\"',\n",
              " 'At the annual conference for refit, the fleet must plan their reffitting of ships and submarines in the yard. This plan should include two operational dry docks, as well as a maximum number of vessels (submarines) that can come to the facility at any given time. The MoM should be released within ten days and prioritized ship/sub-mariner, while the repair workshops are fully operational and available with over 80% manpower strength. Spare parts needed during equipment overhaul may arrive two months before the start of the reftitior.',\n",
              " 'According to the upcoming annual refit conference, it is necessary for the fleet to plan ahead for all ships and submarines in the yard. This requires the use of two operational dry docks; only three vessels or submarine at any given time, and prioritizing ship/submarine within a week. The repair workshops must be fully operational with over 80% manpower strength, while equipment may need to be overhauled two months before the reffit plan is implemented.\"',\n",
              " 'During the annual refit conference, it is expected that ships and submarines will be scheduled to arrive at their respective stations. The fleet must also plan for the reffit using two operational dry docks in the yard, while keeping the number of ships/submarines under one-hour limit, and prioritizing ship/Submariner within a week as the MoM is released. Repair workshops must be fully functional with over 80% manpower strength and may require arriving equipment by two months before the start of the project.',\n",
              " 'In preparation for the annual conference on refit, it is recommended that ships and submarines in the fleet schedule a plan for reffitting while there are two operational dry docks. The majority of ships/submarines should arrive simultaneously, and the MoM should prioritize ship/Submariner within one week. Repair workshops must be fully operational at the time of their refits; however, equipment may need to be overhauled by part of the crew or other resources up to two months ahead of its scheduled start date.',\n",
              " 'Prior to any major refit, the fleet must plan ahead with a schedule set by them and their assigned command. This plan should include two active dry docks in the yard, along with three ships/submarines who can come for refits at once. The MoM should be released within ten days, so make sure the repair workshops are fully operational and available with over 80% manpower strength. Sparte items required during equipment overhauls may arrive two months before the start of an official reffit process.']"
            ]
          },
          "execution_count": 24,
          "metadata": {},
          "output_type": "execute_result"
        }
      ],
      "source": [
        "paraphrase_paragraph "
      ]
    },
    {
      "cell_type": "code",
      "execution_count": 52,
      "metadata": {},
      "outputs": [
        {
          "data": {
            "text/plain": [
              "['This is to ensure the ship can be sailed during the annual maintenance period when various types of equipment are being used for \"maintenance\", as per guidelines set by The Post. To adhere to these new timelines, the quality of work done by workshop must not exceed 10% and the vessel should remain seaworthy within 48 hours of notice (for example, in case of an unplanned accident).',\n",
              " 'He added: \\'The vessel is mandated to sail during the annual maintenance period, with various instruments used for scheduled maintenance; in order that the ship be seaworthy within 48 hours of notice, [the] workshop has been instructed not \"expects more than 10%\" (invalidity) of work under the new promulgated timelines).',\n",
              " 'To ensure compliance with the new timelines, all shipwork must take place within 48 hours. The ship is now expected to sail during an annual maintenance period when various equipment is being used to maintain it.',\n",
              " 'As per the instructions, he has instructed that his ship should be docked during the annual maintenance period, and to ensure that the workshop achieves its goal within 48 hours of notification. To adhere to these new timelines, only high-quality work must be allowed in order to meet this requirement.',\n",
              " 'Ship: ‘The vessel has been ordered to sail on during an annual maintenance period where different instruments have been used (part of the routine maintenance work).’ A new directive was issued for “warranty ships being kept from shipside until at least 48 hours notice; accordingly if in fact quality of work done by workshop exceeds 10% of its original estimate within these new deadlines.” To remain competitive with this policy, the shipping company must use all reasonable means of transportation, including air transportation and watercraft, while maintaining proper equipment cleanliness.',\n",
              " \"In accordance with an annual maintenance period, where equipment is being used to maintain ships and the ship's condition, the crew has been instructed to complete the maintenance task within 48 hours of notification. To adhere to these new timelines, workshop quality must not vary more than 10% or the total number may deviate from their expectations.\",\n",
              " 'Each year, the ship is scheduled to depart at half of its regular service interval, with a variety of equipment being utilized for maintenance. The workshop has been instructed notto \"doesn\\'t break the 10% mark\" in respect of new timeline requirements.']"
            ]
          },
          "execution_count": 52,
          "metadata": {},
          "output_type": "execute_result"
        }
      ],
      "source": [
        "paraphrase_paragraph[10:] "
      ]
    },
    {
      "cell_type": "code",
      "execution_count": 31,
      "metadata": {},
      "outputs": [],
      "source": [
        "paraphrase_paragraph2 = paraphrase(paragraph, num_return_sequences=10, max_length=512, num_beams=20, num_beam_groups=20)"
      ]
    },
    {
      "cell_type": "code",
      "execution_count": 32,
      "metadata": {},
      "outputs": [
        {
          "data": {
            "text/plain": [
              "['The fleet must plan ahead for the refit of ships and submarines currently in the command, with two operational dry docks available.',\n",
              " 'To ensure a smooth refit, the fleet must plan ahead for ships and submarines currently in the command, with two operational dry docks available.',\n",
              " \"The next year's annual refit conference should determine the schedule for recharging ships and submarines in the fleet, with two dry docks available to ship/submarine crews. The MoM will be released within a week prior to the first scheduled reffit, and the repair workshop must be fully operational and available with over 80% manpower strength. Spares needed during equipment overhaul may arrive two months before the refits plan is finalized.\",\n",
              " 'Refreshment for ships and submarines currently in command should be scheduled by fleet during annual refit conference, with two operational dry docks available in the yard and up to three ship/submarine simultaneously.',\n",
              " 'According to the upcoming annual refit conference, the fleet must plan for the reffitting of ships and submarines in the command yard, with two operational dry docks available. The MoM should be released within a week and prioritized by ship/submarine. Additionally: repair workshops must be fully operational and available with over 80% manpower strength; and equipment may need to be overhauled two months before the start of the project.',\n",
              " 'In the upcoming annual refit conference, the fleet must plan ahead for ships and submarines present in the command. This will necessenst having two operational dry docks in yard, so that no more than three ship/submarine can arrive at once. The MoM is expected to be released within a week, and the repair workshop must be fully operational and available with over 80% manpower strength by 2 months before any modifications are initiated.',\n",
              " \"During the annual refit conference, it is recommended that ships and submarines be scheduled to be refited by the fleet, with two dry docks in the yard for maximum flexibility. The MoM should prioritize ship/submarine and must be released within a week; the repair workshop at the time of the ship's refits must have over 80% manpower strength and need to operate fully before the overhauling process may occur up to two months before its plan is finalized.\",\n",
              " \"It is imperative that the fleet plan for refit of ships and submarines present in the command, which will be decided at their annual refits conference. This process requires the use of two operational dry docks in yard, with a limit of three ship/submarine per day. The MoM should prioritize ship or submarine within ten days; however, the repair workshop during the ship's reffit must be fully operational and available with over 80% manpower strength, and parts needed for overhaul may arrive two months before the start of the refituration.\",\n",
              " 'For proper planning, a fleet must plan their refit for ships and submarines currently in command, with two operational dry docks available in the yard and no more than three ships or submarine at any given time. The MoM should be released within ten days and the repair workshop to be fully operational and available with over 80 percent manpower strength by approximately two months before its scheduled start date.',\n",
              " 'A schedule is required by the annual requirment conference of the fleet for refitting ships and submarines present in the command yard, with an option to have only three ships or submarine at any given time. The MoM should prioritize ship/submarine within a week, and the repair workshop must be fully operational (80% manpower) and available for overhauling equipment up to two months before the start of their refit plan.',\n",
              " 'A plan for refitting ships and submarines present in the command should be prepared for at the annual refits conference, with two operational dry docking stations available. The fleet can only come to a point where three ships or submarine will be involved during reiteration, and the MoM must be released within ten days. Additionally, the repair workshop must have been fully operational and available with over 80% manpower strength, so equipment may need to be overhauled two months before the reffit plan is implemented.',\n",
              " 'Prior to refitting ships and submarines at the annual annual refits conference, a schedule must be prepared by fleet members with two operational dry dock facilities. The plan necessitates scheduling multiple ships or submarine submersibles in one go, as well as prioritizing them for later use. A repair workshop is required to be fully operational and available with over 80% manpower strength. Spare parts needed for equipment overhaul may arrive up front two months before the reffit plan is implemented.',\n",
              " 'They should plan ahead for the refitting of ships and submarines already on their command by scheduling a schedule meeting at an upcoming annual refit conference, with two dry docking stations available in the yard. It is not feasible to have more than three ships or submarine(s) during this process, and it is expected that MoM will be released within seven days prior to ship/submarine refits. The repair workshop must be fully operational and available with over 80% manpower strength, so equipment may need to be overhauled two months before the start of its plan.',\n",
              " 'Fleets are expected to plan for their ships and submarines refit during the annual Refit Conference held by the Navy. This process requires having two operational dry docks in the yard, with a limit of three ship/submarine per day. The MoM should be released within ten days while the repair workshop is in its final stages; these facilities must be fully functional (within 80 percent humanpower) and may require overhauling equipment two months before the start of this project.',\n",
              " \"At the annual refit conference, the fleet must plan for resurfacing ships and submarines currently stationed in their command vessels. This process requires the use of two operational dry dock facilities in the yard, with no more than three ship/submarine per day; the MoM should prioritize ships or submarine over one week, and the repair workshop at the time of the ship'll be fully operational and available with over 80% manpower strength until the two months before the start of its refits.\",\n",
              " 'The refit plans for ships and submarines present in command should be scheduled with the help of an official announcement at a future annual conference. This plan will necesite two operational dry docking stations in the yard, as well as no more than three ship/submarine per day. The MoM will focus on prioritized ship or submarine assignments and be released within ten days. Additionally, the repair workshop must be fully operational and available with over 80% manpower strength, and equipment may need to be overhauled two months before its planned.',\n",
              " 'To achieve this objective, it is necessary for the fleet to establish a schedule that includes plans for refitting ships and submarines present in their command during the annual refits conference. The yard has two operational dry docks, but it can accommodate upto three ships or submarine at any given time.',\n",
              " 'Following an announcement at the upcoming annual refit conference, it is recommended that fleet vessels and submarines present in command be scheduled to depart from the yard. The plan neceses the availability of two operational dry docks, with no more than three ships or submarine per day; the MoM should prioritize ship/submarine within one week, and their repair workshop must be fully operational by now and have more manpower strength than 90%. Spares required for equipment overhaul may arrive before the start of the refits plan.',\n",
              " \"After announcing plans for the refit of vessels and submarines, which must be scheduled at an annual conference, it is recommended that the fleet use two fully functional dry docking stations in the yard, with no more than three ships or submarine per day. The MoM should prioritize ship/submarine within ten days; the repair workshop during this period must have been operational and available with over 80% manpower strength, while spare parts may need to arrive up to two months ahead of the plan's unveiling date as part thereof.\",\n",
              " 'An annual conference is necessary to schedule the refitting of ships and submarines at their docks. The fleet must have two operational dry dock facilities, but they can only refuel three ships or submarine simultaneously while the MoM release concentratees are in place within one week.']"
            ]
          },
          "execution_count": 32,
          "metadata": {},
          "output_type": "execute_result"
        }
      ],
      "source": [
        "paraphrase_paragraph2"
      ]
    },
    {
      "cell_type": "code",
      "execution_count": null,
      "metadata": {},
      "outputs": [],
      "source": []
    },
    {
      "cell_type": "code",
      "execution_count": null,
      "metadata": {},
      "outputs": [],
      "source": []
    },
    {
      "cell_type": "markdown",
      "metadata": {},
      "source": [
        "## Metric to get the best generated \n",
        "- cosine similarity\n",
        "- Jaccard similarity\n",
        "- levenshtein_similarity"
      ]
    },
    {
      "cell_type": "code",
      "execution_count": null,
      "metadata": {},
      "outputs": [],
      "source": []
    },
    {
      "cell_type": "code",
      "execution_count": null,
      "metadata": {},
      "outputs": [],
      "source": [
        "from sklearn.metrics.pairwise import cosine_similarity\n",
        "import numpy as np\n",
        "\n",
        "\n",
        "\n",
        "# Calculate embedding using Distiil_BERT Model\n",
        "embeddings = [1] # changr this with BERT embedding\n",
        "\n",
        "# Compute the cosine similarity matrix\n",
        "similarity_matrix = cosine_similarity(embeddings)\n",
        "\n",
        "print(\"Cosine Similarity Matrix:\")\n",
        "print(similarity_matrix)"
      ]
    },
    {
      "cell_type": "code",
      "execution_count": 37,
      "metadata": {},
      "outputs": [
        {
          "name": "stdout",
          "output_type": "stream",
          "text": [
            "Jaccard similarity between Paragraph 1 and 2: 0.2753623188405797\n"
          ]
        },
        {
          "name": "stderr",
          "output_type": "stream",
          "text": [
            "[nltk_data] Downloading package punkt to\n",
            "[nltk_data]     /Users/balbirsingh/nltk_data...\n",
            "[nltk_data]   Package punkt is already up-to-date!\n"
          ]
        }
      ],
      "source": [
        "from nltk.tokenize import word_tokenize\n",
        "import nltk\n",
        "\n",
        "# Ensure you have the required NLTK data files\n",
        "nltk.download('punkt')\n",
        "\n",
        "# Function to calculate Jaccard similarity\n",
        "def jaccard_similarity(paragraph1, paragraph2):\n",
        "    tokens1 = set(word_tokenize(paragraph1.lower()))\n",
        "    tokens2 = set(word_tokenize(paragraph2.lower()))\n",
        "    intersection = tokens1.intersection(tokens2)\n",
        "    union = tokens1.union(tokens2)\n",
        "    similarity = len(intersection) / len(union)\n",
        "    return similarity\n",
        "\n",
        "# Calculate Jaccard similarity\n",
        "similarity1 = jaccard_similarity(paragraph[0], paraphrase_paragraph[0])\n",
        "\n",
        "\n",
        "print(f\"Jaccard similarity between Paragraph 1 and 2: {similarity1}\")"
      ]
    },
    {
      "cell_type": "code",
      "execution_count": 33,
      "metadata": {},
      "outputs": [
        {
          "name": "stdout",
          "output_type": "stream",
          "text": [
            "Levenshtein distance between Paragraph 1 and 2: 83\n"
          ]
        },
        {
          "name": "stderr",
          "output_type": "stream",
          "text": [
            "[nltk_data] Downloading package punkt to\n",
            "[nltk_data]     /Users/balbirsingh/nltk_data...\n",
            "[nltk_data]   Package punkt is already up-to-date!\n"
          ]
        }
      ],
      "source": [
        "from nltk.tokenize import word_tokenize\n",
        "from nltk.metrics import edit_distance\n",
        "import nltk\n",
        "\n",
        "nltk.download('punkt')\n",
        "\n",
        "# Function to calculate word-by-word Levenshtein distance\n",
        "def levenshtein_similarity(paragraph1, paragraph2):\n",
        "    tokens1 = word_tokenize(paragraph1.lower())\n",
        "    tokens2 = word_tokenize(paragraph2.lower())\n",
        "    return edit_distance(tokens1, tokens2)\n",
        "\n",
        "distance1 = levenshtein_similarity(paragraph[0], paraphrase_paragraph[0])\n",
        "\n",
        "print(f\"Levenshtein distance between Paragraph 1 and 2: {distance1}\")"
      ]
    },
    {
      "cell_type": "code",
      "execution_count": null,
      "metadata": {},
      "outputs": [],
      "source": []
    }
  ],
  "metadata": {
    "colab": {
      "include_colab_link": true,
      "machine_shape": "hm",
      "name": "A Visual Notebook to Using BERT for the First Time.ipynb",
      "provenance": []
    },
    "kernelspec": {
      "display_name": "Python 3",
      "name": "python3"
    },
    "language_info": {
      "codemirror_mode": {
        "name": "ipython",
        "version": 3
      },
      "file_extension": ".py",
      "mimetype": "text/x-python",
      "name": "python",
      "nbconvert_exporter": "python",
      "pygments_lexer": "ipython3",
      "version": "3.11.7"
    }
  },
  "nbformat": 4,
  "nbformat_minor": 0
}
